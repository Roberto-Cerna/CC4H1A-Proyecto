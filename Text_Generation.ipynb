{
  "nbformat": 4,
  "nbformat_minor": 0,
  "metadata": {
    "colab": {
      "name": "Text-Generation.ipynb",
      "provenance": [],
      "authorship_tag": "ABX9TyM/W4sQAen6fDmUhYnTTrfP",
      "include_colab_link": true
    },
    "kernelspec": {
      "name": "python3",
      "display_name": "Python 3"
    },
    "language_info": {
      "name": "python"
    },
    "widgets": {
      "application/vnd.jupyter.widget-state+json": {
        "b51cc0ce5fd14fe7911ba3abfa80be48": {
          "model_module": "@jupyter-widgets/controls",
          "model_name": "HBoxModel",
          "state": {
            "_view_name": "HBoxView",
            "_dom_classes": [],
            "_model_name": "HBoxModel",
            "_view_module": "@jupyter-widgets/controls",
            "_model_module_version": "1.5.0",
            "_view_count": null,
            "_view_module_version": "1.5.0",
            "box_style": "",
            "layout": "IPY_MODEL_c061aab61ab24f56a83607b0ea64932f",
            "_model_module": "@jupyter-widgets/controls",
            "children": [
              "IPY_MODEL_048e859f7e36486b81d051d9679a7c2b",
              "IPY_MODEL_b957d336c3f245ba8e6a634e1f6a2e90"
            ]
          }
        },
        "c061aab61ab24f56a83607b0ea64932f": {
          "model_module": "@jupyter-widgets/base",
          "model_name": "LayoutModel",
          "state": {
            "_view_name": "LayoutView",
            "grid_template_rows": null,
            "right": null,
            "justify_content": null,
            "_view_module": "@jupyter-widgets/base",
            "overflow": null,
            "_model_module_version": "1.2.0",
            "_view_count": null,
            "flex_flow": null,
            "width": null,
            "min_width": null,
            "border": null,
            "align_items": null,
            "bottom": null,
            "_model_module": "@jupyter-widgets/base",
            "top": null,
            "grid_column": null,
            "overflow_y": null,
            "overflow_x": null,
            "grid_auto_flow": null,
            "grid_area": null,
            "grid_template_columns": null,
            "flex": null,
            "_model_name": "LayoutModel",
            "justify_items": null,
            "grid_row": null,
            "max_height": null,
            "align_content": null,
            "visibility": null,
            "align_self": null,
            "height": null,
            "min_height": null,
            "padding": null,
            "grid_auto_rows": null,
            "grid_gap": null,
            "max_width": null,
            "order": null,
            "_view_module_version": "1.2.0",
            "grid_template_areas": null,
            "object_position": null,
            "object_fit": null,
            "grid_auto_columns": null,
            "margin": null,
            "display": null,
            "left": null
          }
        },
        "048e859f7e36486b81d051d9679a7c2b": {
          "model_module": "@jupyter-widgets/controls",
          "model_name": "FloatProgressModel",
          "state": {
            "_view_name": "ProgressView",
            "style": "IPY_MODEL_af3997db68204607b5d0616c4cbc3be9",
            "_dom_classes": [],
            "description": "Downloading: 100%",
            "_model_name": "FloatProgressModel",
            "bar_style": "success",
            "max": 620,
            "_view_module": "@jupyter-widgets/controls",
            "_model_module_version": "1.5.0",
            "value": 620,
            "_view_count": null,
            "_view_module_version": "1.5.0",
            "orientation": "horizontal",
            "min": 0,
            "description_tooltip": null,
            "_model_module": "@jupyter-widgets/controls",
            "layout": "IPY_MODEL_8e6f444b2cac403ba14b1e5d695f8828"
          }
        },
        "b957d336c3f245ba8e6a634e1f6a2e90": {
          "model_module": "@jupyter-widgets/controls",
          "model_name": "HTMLModel",
          "state": {
            "_view_name": "HTMLView",
            "style": "IPY_MODEL_98562842086c4ef39111dce479a1ae36",
            "_dom_classes": [],
            "description": "",
            "_model_name": "HTMLModel",
            "placeholder": "​",
            "_view_module": "@jupyter-widgets/controls",
            "_model_module_version": "1.5.0",
            "value": " 620/620 [00:00&lt;00:00, 3.04kB/s]",
            "_view_count": null,
            "_view_module_version": "1.5.0",
            "description_tooltip": null,
            "_model_module": "@jupyter-widgets/controls",
            "layout": "IPY_MODEL_9868b171d3694859a8eaf4fb10d194d3"
          }
        },
        "af3997db68204607b5d0616c4cbc3be9": {
          "model_module": "@jupyter-widgets/controls",
          "model_name": "ProgressStyleModel",
          "state": {
            "_view_name": "StyleView",
            "_model_name": "ProgressStyleModel",
            "description_width": "initial",
            "_view_module": "@jupyter-widgets/base",
            "_model_module_version": "1.5.0",
            "_view_count": null,
            "_view_module_version": "1.2.0",
            "bar_color": null,
            "_model_module": "@jupyter-widgets/controls"
          }
        },
        "8e6f444b2cac403ba14b1e5d695f8828": {
          "model_module": "@jupyter-widgets/base",
          "model_name": "LayoutModel",
          "state": {
            "_view_name": "LayoutView",
            "grid_template_rows": null,
            "right": null,
            "justify_content": null,
            "_view_module": "@jupyter-widgets/base",
            "overflow": null,
            "_model_module_version": "1.2.0",
            "_view_count": null,
            "flex_flow": null,
            "width": null,
            "min_width": null,
            "border": null,
            "align_items": null,
            "bottom": null,
            "_model_module": "@jupyter-widgets/base",
            "top": null,
            "grid_column": null,
            "overflow_y": null,
            "overflow_x": null,
            "grid_auto_flow": null,
            "grid_area": null,
            "grid_template_columns": null,
            "flex": null,
            "_model_name": "LayoutModel",
            "justify_items": null,
            "grid_row": null,
            "max_height": null,
            "align_content": null,
            "visibility": null,
            "align_self": null,
            "height": null,
            "min_height": null,
            "padding": null,
            "grid_auto_rows": null,
            "grid_gap": null,
            "max_width": null,
            "order": null,
            "_view_module_version": "1.2.0",
            "grid_template_areas": null,
            "object_position": null,
            "object_fit": null,
            "grid_auto_columns": null,
            "margin": null,
            "display": null,
            "left": null
          }
        },
        "98562842086c4ef39111dce479a1ae36": {
          "model_module": "@jupyter-widgets/controls",
          "model_name": "DescriptionStyleModel",
          "state": {
            "_view_name": "StyleView",
            "_model_name": "DescriptionStyleModel",
            "description_width": "",
            "_view_module": "@jupyter-widgets/base",
            "_model_module_version": "1.5.0",
            "_view_count": null,
            "_view_module_version": "1.2.0",
            "_model_module": "@jupyter-widgets/controls"
          }
        },
        "9868b171d3694859a8eaf4fb10d194d3": {
          "model_module": "@jupyter-widgets/base",
          "model_name": "LayoutModel",
          "state": {
            "_view_name": "LayoutView",
            "grid_template_rows": null,
            "right": null,
            "justify_content": null,
            "_view_module": "@jupyter-widgets/base",
            "overflow": null,
            "_model_module_version": "1.2.0",
            "_view_count": null,
            "flex_flow": null,
            "width": null,
            "min_width": null,
            "border": null,
            "align_items": null,
            "bottom": null,
            "_model_module": "@jupyter-widgets/base",
            "top": null,
            "grid_column": null,
            "overflow_y": null,
            "overflow_x": null,
            "grid_auto_flow": null,
            "grid_area": null,
            "grid_template_columns": null,
            "flex": null,
            "_model_name": "LayoutModel",
            "justify_items": null,
            "grid_row": null,
            "max_height": null,
            "align_content": null,
            "visibility": null,
            "align_self": null,
            "height": null,
            "min_height": null,
            "padding": null,
            "grid_auto_rows": null,
            "grid_gap": null,
            "max_width": null,
            "order": null,
            "_view_module_version": "1.2.0",
            "grid_template_areas": null,
            "object_position": null,
            "object_fit": null,
            "grid_auto_columns": null,
            "margin": null,
            "display": null,
            "left": null
          }
        },
        "43afffda471b412d99a8982237a08a7c": {
          "model_module": "@jupyter-widgets/controls",
          "model_name": "HBoxModel",
          "state": {
            "_view_name": "HBoxView",
            "_dom_classes": [],
            "_model_name": "HBoxModel",
            "_view_module": "@jupyter-widgets/controls",
            "_model_module_version": "1.5.0",
            "_view_count": null,
            "_view_module_version": "1.5.0",
            "box_style": "",
            "layout": "IPY_MODEL_c2b727e5a3bc4343a87e41504bb8e516",
            "_model_module": "@jupyter-widgets/controls",
            "children": [
              "IPY_MODEL_207cae9dd5cd45fe9ec22a6306476630",
              "IPY_MODEL_0bbcb2df1ff34e8283b455ae5e40b838"
            ]
          }
        },
        "c2b727e5a3bc4343a87e41504bb8e516": {
          "model_module": "@jupyter-widgets/base",
          "model_name": "LayoutModel",
          "state": {
            "_view_name": "LayoutView",
            "grid_template_rows": null,
            "right": null,
            "justify_content": null,
            "_view_module": "@jupyter-widgets/base",
            "overflow": null,
            "_model_module_version": "1.2.0",
            "_view_count": null,
            "flex_flow": null,
            "width": null,
            "min_width": null,
            "border": null,
            "align_items": null,
            "bottom": null,
            "_model_module": "@jupyter-widgets/base",
            "top": null,
            "grid_column": null,
            "overflow_y": null,
            "overflow_x": null,
            "grid_auto_flow": null,
            "grid_area": null,
            "grid_template_columns": null,
            "flex": null,
            "_model_name": "LayoutModel",
            "justify_items": null,
            "grid_row": null,
            "max_height": null,
            "align_content": null,
            "visibility": null,
            "align_self": null,
            "height": null,
            "min_height": null,
            "padding": null,
            "grid_auto_rows": null,
            "grid_gap": null,
            "max_width": null,
            "order": null,
            "_view_module_version": "1.2.0",
            "grid_template_areas": null,
            "object_position": null,
            "object_fit": null,
            "grid_auto_columns": null,
            "margin": null,
            "display": null,
            "left": null
          }
        },
        "207cae9dd5cd45fe9ec22a6306476630": {
          "model_module": "@jupyter-widgets/controls",
          "model_name": "FloatProgressModel",
          "state": {
            "_view_name": "ProgressView",
            "style": "IPY_MODEL_06d66566f6e5471ab686acea79cff5e0",
            "_dom_classes": [],
            "description": "Downloading: 100%",
            "_model_name": "FloatProgressModel",
            "bar_style": "success",
            "max": 817,
            "_view_module": "@jupyter-widgets/controls",
            "_model_module_version": "1.5.0",
            "value": 817,
            "_view_count": null,
            "_view_module_version": "1.5.0",
            "orientation": "horizontal",
            "min": 0,
            "description_tooltip": null,
            "_model_module": "@jupyter-widgets/controls",
            "layout": "IPY_MODEL_9d341e9fe0d94ee3a332ac7929fe61b8"
          }
        },
        "0bbcb2df1ff34e8283b455ae5e40b838": {
          "model_module": "@jupyter-widgets/controls",
          "model_name": "HTMLModel",
          "state": {
            "_view_name": "HTMLView",
            "style": "IPY_MODEL_9ac0d64e03d245b4be8aa671a59b7efb",
            "_dom_classes": [],
            "description": "",
            "_model_name": "HTMLModel",
            "placeholder": "​",
            "_view_module": "@jupyter-widgets/controls",
            "_model_module_version": "1.5.0",
            "value": " 817/817 [00:00&lt;00:00, 850B/s]",
            "_view_count": null,
            "_view_module_version": "1.5.0",
            "description_tooltip": null,
            "_model_module": "@jupyter-widgets/controls",
            "layout": "IPY_MODEL_514746e3051b44b3b9c2039c74f04d6f"
          }
        },
        "06d66566f6e5471ab686acea79cff5e0": {
          "model_module": "@jupyter-widgets/controls",
          "model_name": "ProgressStyleModel",
          "state": {
            "_view_name": "StyleView",
            "_model_name": "ProgressStyleModel",
            "description_width": "initial",
            "_view_module": "@jupyter-widgets/base",
            "_model_module_version": "1.5.0",
            "_view_count": null,
            "_view_module_version": "1.2.0",
            "bar_color": null,
            "_model_module": "@jupyter-widgets/controls"
          }
        },
        "9d341e9fe0d94ee3a332ac7929fe61b8": {
          "model_module": "@jupyter-widgets/base",
          "model_name": "LayoutModel",
          "state": {
            "_view_name": "LayoutView",
            "grid_template_rows": null,
            "right": null,
            "justify_content": null,
            "_view_module": "@jupyter-widgets/base",
            "overflow": null,
            "_model_module_version": "1.2.0",
            "_view_count": null,
            "flex_flow": null,
            "width": null,
            "min_width": null,
            "border": null,
            "align_items": null,
            "bottom": null,
            "_model_module": "@jupyter-widgets/base",
            "top": null,
            "grid_column": null,
            "overflow_y": null,
            "overflow_x": null,
            "grid_auto_flow": null,
            "grid_area": null,
            "grid_template_columns": null,
            "flex": null,
            "_model_name": "LayoutModel",
            "justify_items": null,
            "grid_row": null,
            "max_height": null,
            "align_content": null,
            "visibility": null,
            "align_self": null,
            "height": null,
            "min_height": null,
            "padding": null,
            "grid_auto_rows": null,
            "grid_gap": null,
            "max_width": null,
            "order": null,
            "_view_module_version": "1.2.0",
            "grid_template_areas": null,
            "object_position": null,
            "object_fit": null,
            "grid_auto_columns": null,
            "margin": null,
            "display": null,
            "left": null
          }
        },
        "9ac0d64e03d245b4be8aa671a59b7efb": {
          "model_module": "@jupyter-widgets/controls",
          "model_name": "DescriptionStyleModel",
          "state": {
            "_view_name": "StyleView",
            "_model_name": "DescriptionStyleModel",
            "description_width": "",
            "_view_module": "@jupyter-widgets/base",
            "_model_module_version": "1.5.0",
            "_view_count": null,
            "_view_module_version": "1.2.0",
            "_model_module": "@jupyter-widgets/controls"
          }
        },
        "514746e3051b44b3b9c2039c74f04d6f": {
          "model_module": "@jupyter-widgets/base",
          "model_name": "LayoutModel",
          "state": {
            "_view_name": "LayoutView",
            "grid_template_rows": null,
            "right": null,
            "justify_content": null,
            "_view_module": "@jupyter-widgets/base",
            "overflow": null,
            "_model_module_version": "1.2.0",
            "_view_count": null,
            "flex_flow": null,
            "width": null,
            "min_width": null,
            "border": null,
            "align_items": null,
            "bottom": null,
            "_model_module": "@jupyter-widgets/base",
            "top": null,
            "grid_column": null,
            "overflow_y": null,
            "overflow_x": null,
            "grid_auto_flow": null,
            "grid_area": null,
            "grid_template_columns": null,
            "flex": null,
            "_model_name": "LayoutModel",
            "justify_items": null,
            "grid_row": null,
            "max_height": null,
            "align_content": null,
            "visibility": null,
            "align_self": null,
            "height": null,
            "min_height": null,
            "padding": null,
            "grid_auto_rows": null,
            "grid_gap": null,
            "max_width": null,
            "order": null,
            "_view_module_version": "1.2.0",
            "grid_template_areas": null,
            "object_position": null,
            "object_fit": null,
            "grid_auto_columns": null,
            "margin": null,
            "display": null,
            "left": null
          }
        },
        "9e2bb36ad74d4b2799bfd71e0766d727": {
          "model_module": "@jupyter-widgets/controls",
          "model_name": "HBoxModel",
          "state": {
            "_view_name": "HBoxView",
            "_dom_classes": [],
            "_model_name": "HBoxModel",
            "_view_module": "@jupyter-widgets/controls",
            "_model_module_version": "1.5.0",
            "_view_count": null,
            "_view_module_version": "1.5.0",
            "box_style": "",
            "layout": "IPY_MODEL_bfd9e39588fe4b2f83fb905443862249",
            "_model_module": "@jupyter-widgets/controls",
            "children": [
              "IPY_MODEL_1896799530a74f9c8fef4e67a90c9ee7",
              "IPY_MODEL_154a3df684eb462085b3f5b94ae4b88a"
            ]
          }
        },
        "bfd9e39588fe4b2f83fb905443862249": {
          "model_module": "@jupyter-widgets/base",
          "model_name": "LayoutModel",
          "state": {
            "_view_name": "LayoutView",
            "grid_template_rows": null,
            "right": null,
            "justify_content": null,
            "_view_module": "@jupyter-widgets/base",
            "overflow": null,
            "_model_module_version": "1.2.0",
            "_view_count": null,
            "flex_flow": null,
            "width": null,
            "min_width": null,
            "border": null,
            "align_items": null,
            "bottom": null,
            "_model_module": "@jupyter-widgets/base",
            "top": null,
            "grid_column": null,
            "overflow_y": null,
            "overflow_x": null,
            "grid_auto_flow": null,
            "grid_area": null,
            "grid_template_columns": null,
            "flex": null,
            "_model_name": "LayoutModel",
            "justify_items": null,
            "grid_row": null,
            "max_height": null,
            "align_content": null,
            "visibility": null,
            "align_self": null,
            "height": null,
            "min_height": null,
            "padding": null,
            "grid_auto_rows": null,
            "grid_gap": null,
            "max_width": null,
            "order": null,
            "_view_module_version": "1.2.0",
            "grid_template_areas": null,
            "object_position": null,
            "object_fit": null,
            "grid_auto_columns": null,
            "margin": null,
            "display": null,
            "left": null
          }
        },
        "1896799530a74f9c8fef4e67a90c9ee7": {
          "model_module": "@jupyter-widgets/controls",
          "model_name": "FloatProgressModel",
          "state": {
            "_view_name": "ProgressView",
            "style": "IPY_MODEL_1b3a01d1fe434d298600dcd376a8bef8",
            "_dom_classes": [],
            "description": "Downloading: 100%",
            "_model_name": "FloatProgressModel",
            "bar_style": "success",
            "max": 849679,
            "_view_module": "@jupyter-widgets/controls",
            "_model_module_version": "1.5.0",
            "value": 849679,
            "_view_count": null,
            "_view_module_version": "1.5.0",
            "orientation": "horizontal",
            "min": 0,
            "description_tooltip": null,
            "_model_module": "@jupyter-widgets/controls",
            "layout": "IPY_MODEL_d76a61cd73214a238d6d84c8b2c47ae9"
          }
        },
        "154a3df684eb462085b3f5b94ae4b88a": {
          "model_module": "@jupyter-widgets/controls",
          "model_name": "HTMLModel",
          "state": {
            "_view_name": "HTMLView",
            "style": "IPY_MODEL_eadead040e2f4c5dbe58c8c61688644f",
            "_dom_classes": [],
            "description": "",
            "_model_name": "HTMLModel",
            "placeholder": "​",
            "_view_module": "@jupyter-widgets/controls",
            "_model_module_version": "1.5.0",
            "value": " 850k/850k [00:00&lt;00:00, 1.11MB/s]",
            "_view_count": null,
            "_view_module_version": "1.5.0",
            "description_tooltip": null,
            "_model_module": "@jupyter-widgets/controls",
            "layout": "IPY_MODEL_66eabaf466f448c292a6bbefd20452d7"
          }
        },
        "1b3a01d1fe434d298600dcd376a8bef8": {
          "model_module": "@jupyter-widgets/controls",
          "model_name": "ProgressStyleModel",
          "state": {
            "_view_name": "StyleView",
            "_model_name": "ProgressStyleModel",
            "description_width": "initial",
            "_view_module": "@jupyter-widgets/base",
            "_model_module_version": "1.5.0",
            "_view_count": null,
            "_view_module_version": "1.2.0",
            "bar_color": null,
            "_model_module": "@jupyter-widgets/controls"
          }
        },
        "d76a61cd73214a238d6d84c8b2c47ae9": {
          "model_module": "@jupyter-widgets/base",
          "model_name": "LayoutModel",
          "state": {
            "_view_name": "LayoutView",
            "grid_template_rows": null,
            "right": null,
            "justify_content": null,
            "_view_module": "@jupyter-widgets/base",
            "overflow": null,
            "_model_module_version": "1.2.0",
            "_view_count": null,
            "flex_flow": null,
            "width": null,
            "min_width": null,
            "border": null,
            "align_items": null,
            "bottom": null,
            "_model_module": "@jupyter-widgets/base",
            "top": null,
            "grid_column": null,
            "overflow_y": null,
            "overflow_x": null,
            "grid_auto_flow": null,
            "grid_area": null,
            "grid_template_columns": null,
            "flex": null,
            "_model_name": "LayoutModel",
            "justify_items": null,
            "grid_row": null,
            "max_height": null,
            "align_content": null,
            "visibility": null,
            "align_self": null,
            "height": null,
            "min_height": null,
            "padding": null,
            "grid_auto_rows": null,
            "grid_gap": null,
            "max_width": null,
            "order": null,
            "_view_module_version": "1.2.0",
            "grid_template_areas": null,
            "object_position": null,
            "object_fit": null,
            "grid_auto_columns": null,
            "margin": null,
            "display": null,
            "left": null
          }
        },
        "eadead040e2f4c5dbe58c8c61688644f": {
          "model_module": "@jupyter-widgets/controls",
          "model_name": "DescriptionStyleModel",
          "state": {
            "_view_name": "StyleView",
            "_model_name": "DescriptionStyleModel",
            "description_width": "",
            "_view_module": "@jupyter-widgets/base",
            "_model_module_version": "1.5.0",
            "_view_count": null,
            "_view_module_version": "1.2.0",
            "_model_module": "@jupyter-widgets/controls"
          }
        },
        "66eabaf466f448c292a6bbefd20452d7": {
          "model_module": "@jupyter-widgets/base",
          "model_name": "LayoutModel",
          "state": {
            "_view_name": "LayoutView",
            "grid_template_rows": null,
            "right": null,
            "justify_content": null,
            "_view_module": "@jupyter-widgets/base",
            "overflow": null,
            "_model_module_version": "1.2.0",
            "_view_count": null,
            "flex_flow": null,
            "width": null,
            "min_width": null,
            "border": null,
            "align_items": null,
            "bottom": null,
            "_model_module": "@jupyter-widgets/base",
            "top": null,
            "grid_column": null,
            "overflow_y": null,
            "overflow_x": null,
            "grid_auto_flow": null,
            "grid_area": null,
            "grid_template_columns": null,
            "flex": null,
            "_model_name": "LayoutModel",
            "justify_items": null,
            "grid_row": null,
            "max_height": null,
            "align_content": null,
            "visibility": null,
            "align_self": null,
            "height": null,
            "min_height": null,
            "padding": null,
            "grid_auto_rows": null,
            "grid_gap": null,
            "max_width": null,
            "order": null,
            "_view_module_version": "1.2.0",
            "grid_template_areas": null,
            "object_position": null,
            "object_fit": null,
            "grid_auto_columns": null,
            "margin": null,
            "display": null,
            "left": null
          }
        },
        "5748cc3672c84830b9c3c9c34254a415": {
          "model_module": "@jupyter-widgets/controls",
          "model_name": "HBoxModel",
          "state": {
            "_view_name": "HBoxView",
            "_dom_classes": [],
            "_model_name": "HBoxModel",
            "_view_module": "@jupyter-widgets/controls",
            "_model_module_version": "1.5.0",
            "_view_count": null,
            "_view_module_version": "1.5.0",
            "box_style": "",
            "layout": "IPY_MODEL_87e9c8b68bc34b6c96057a5ee071cd41",
            "_model_module": "@jupyter-widgets/controls",
            "children": [
              "IPY_MODEL_a4940cd2f6bc41bca823d0c81dbadafa",
              "IPY_MODEL_101da6bd98ff401fa4d6fc3b945e031f"
            ]
          }
        },
        "87e9c8b68bc34b6c96057a5ee071cd41": {
          "model_module": "@jupyter-widgets/base",
          "model_name": "LayoutModel",
          "state": {
            "_view_name": "LayoutView",
            "grid_template_rows": null,
            "right": null,
            "justify_content": null,
            "_view_module": "@jupyter-widgets/base",
            "overflow": null,
            "_model_module_version": "1.2.0",
            "_view_count": null,
            "flex_flow": null,
            "width": null,
            "min_width": null,
            "border": null,
            "align_items": null,
            "bottom": null,
            "_model_module": "@jupyter-widgets/base",
            "top": null,
            "grid_column": null,
            "overflow_y": null,
            "overflow_x": null,
            "grid_auto_flow": null,
            "grid_area": null,
            "grid_template_columns": null,
            "flex": null,
            "_model_name": "LayoutModel",
            "justify_items": null,
            "grid_row": null,
            "max_height": null,
            "align_content": null,
            "visibility": null,
            "align_self": null,
            "height": null,
            "min_height": null,
            "padding": null,
            "grid_auto_rows": null,
            "grid_gap": null,
            "max_width": null,
            "order": null,
            "_view_module_version": "1.2.0",
            "grid_template_areas": null,
            "object_position": null,
            "object_fit": null,
            "grid_auto_columns": null,
            "margin": null,
            "display": null,
            "left": null
          }
        },
        "a4940cd2f6bc41bca823d0c81dbadafa": {
          "model_module": "@jupyter-widgets/controls",
          "model_name": "FloatProgressModel",
          "state": {
            "_view_name": "ProgressView",
            "style": "IPY_MODEL_b5a2e3e0c659489aa8835bd5d2987750",
            "_dom_classes": [],
            "description": "Downloading: 100%",
            "_model_name": "FloatProgressModel",
            "bar_style": "success",
            "max": 507987,
            "_view_module": "@jupyter-widgets/controls",
            "_model_module_version": "1.5.0",
            "value": 507987,
            "_view_count": null,
            "_view_module_version": "1.5.0",
            "orientation": "horizontal",
            "min": 0,
            "description_tooltip": null,
            "_model_module": "@jupyter-widgets/controls",
            "layout": "IPY_MODEL_5b3f7b047e364050941a61e30a34c635"
          }
        },
        "101da6bd98ff401fa4d6fc3b945e031f": {
          "model_module": "@jupyter-widgets/controls",
          "model_name": "HTMLModel",
          "state": {
            "_view_name": "HTMLView",
            "style": "IPY_MODEL_80d6529e0bca408e84d6369556445237",
            "_dom_classes": [],
            "description": "",
            "_model_name": "HTMLModel",
            "placeholder": "​",
            "_view_module": "@jupyter-widgets/controls",
            "_model_module_version": "1.5.0",
            "value": " 508k/508k [00:00&lt;00:00, 1.08MB/s]",
            "_view_count": null,
            "_view_module_version": "1.5.0",
            "description_tooltip": null,
            "_model_module": "@jupyter-widgets/controls",
            "layout": "IPY_MODEL_2448a3364d42442999fcf59172d9267b"
          }
        },
        "b5a2e3e0c659489aa8835bd5d2987750": {
          "model_module": "@jupyter-widgets/controls",
          "model_name": "ProgressStyleModel",
          "state": {
            "_view_name": "StyleView",
            "_model_name": "ProgressStyleModel",
            "description_width": "initial",
            "_view_module": "@jupyter-widgets/base",
            "_model_module_version": "1.5.0",
            "_view_count": null,
            "_view_module_version": "1.2.0",
            "bar_color": null,
            "_model_module": "@jupyter-widgets/controls"
          }
        },
        "5b3f7b047e364050941a61e30a34c635": {
          "model_module": "@jupyter-widgets/base",
          "model_name": "LayoutModel",
          "state": {
            "_view_name": "LayoutView",
            "grid_template_rows": null,
            "right": null,
            "justify_content": null,
            "_view_module": "@jupyter-widgets/base",
            "overflow": null,
            "_model_module_version": "1.2.0",
            "_view_count": null,
            "flex_flow": null,
            "width": null,
            "min_width": null,
            "border": null,
            "align_items": null,
            "bottom": null,
            "_model_module": "@jupyter-widgets/base",
            "top": null,
            "grid_column": null,
            "overflow_y": null,
            "overflow_x": null,
            "grid_auto_flow": null,
            "grid_area": null,
            "grid_template_columns": null,
            "flex": null,
            "_model_name": "LayoutModel",
            "justify_items": null,
            "grid_row": null,
            "max_height": null,
            "align_content": null,
            "visibility": null,
            "align_self": null,
            "height": null,
            "min_height": null,
            "padding": null,
            "grid_auto_rows": null,
            "grid_gap": null,
            "max_width": null,
            "order": null,
            "_view_module_version": "1.2.0",
            "grid_template_areas": null,
            "object_position": null,
            "object_fit": null,
            "grid_auto_columns": null,
            "margin": null,
            "display": null,
            "left": null
          }
        },
        "80d6529e0bca408e84d6369556445237": {
          "model_module": "@jupyter-widgets/controls",
          "model_name": "DescriptionStyleModel",
          "state": {
            "_view_name": "StyleView",
            "_model_name": "DescriptionStyleModel",
            "description_width": "",
            "_view_module": "@jupyter-widgets/base",
            "_model_module_version": "1.5.0",
            "_view_count": null,
            "_view_module_version": "1.2.0",
            "_model_module": "@jupyter-widgets/controls"
          }
        },
        "2448a3364d42442999fcf59172d9267b": {
          "model_module": "@jupyter-widgets/base",
          "model_name": "LayoutModel",
          "state": {
            "_view_name": "LayoutView",
            "grid_template_rows": null,
            "right": null,
            "justify_content": null,
            "_view_module": "@jupyter-widgets/base",
            "overflow": null,
            "_model_module_version": "1.2.0",
            "_view_count": null,
            "flex_flow": null,
            "width": null,
            "min_width": null,
            "border": null,
            "align_items": null,
            "bottom": null,
            "_model_module": "@jupyter-widgets/base",
            "top": null,
            "grid_column": null,
            "overflow_y": null,
            "overflow_x": null,
            "grid_auto_flow": null,
            "grid_area": null,
            "grid_template_columns": null,
            "flex": null,
            "_model_name": "LayoutModel",
            "justify_items": null,
            "grid_row": null,
            "max_height": null,
            "align_content": null,
            "visibility": null,
            "align_self": null,
            "height": null,
            "min_height": null,
            "padding": null,
            "grid_auto_rows": null,
            "grid_gap": null,
            "max_width": null,
            "order": null,
            "_view_module_version": "1.2.0",
            "grid_template_areas": null,
            "object_position": null,
            "object_fit": null,
            "grid_auto_columns": null,
            "margin": null,
            "display": null,
            "left": null
          }
        },
        "357a4ace89a6484884e8bde33e6556bc": {
          "model_module": "@jupyter-widgets/controls",
          "model_name": "HBoxModel",
          "state": {
            "_view_name": "HBoxView",
            "_dom_classes": [],
            "_model_name": "HBoxModel",
            "_view_module": "@jupyter-widgets/controls",
            "_model_module_version": "1.5.0",
            "_view_count": null,
            "_view_module_version": "1.5.0",
            "box_style": "",
            "layout": "IPY_MODEL_bbe8a549d85f47b1bba27a1116374913",
            "_model_module": "@jupyter-widgets/controls",
            "children": [
              "IPY_MODEL_398818c90e8c40a7bbe9784f3ef231f7",
              "IPY_MODEL_d424490f5b6f444eb8385cc021c85721"
            ]
          }
        },
        "bbe8a549d85f47b1bba27a1116374913": {
          "model_module": "@jupyter-widgets/base",
          "model_name": "LayoutModel",
          "state": {
            "_view_name": "LayoutView",
            "grid_template_rows": null,
            "right": null,
            "justify_content": null,
            "_view_module": "@jupyter-widgets/base",
            "overflow": null,
            "_model_module_version": "1.2.0",
            "_view_count": null,
            "flex_flow": null,
            "width": null,
            "min_width": null,
            "border": null,
            "align_items": null,
            "bottom": null,
            "_model_module": "@jupyter-widgets/base",
            "top": null,
            "grid_column": null,
            "overflow_y": null,
            "overflow_x": null,
            "grid_auto_flow": null,
            "grid_area": null,
            "grid_template_columns": null,
            "flex": null,
            "_model_name": "LayoutModel",
            "justify_items": null,
            "grid_row": null,
            "max_height": null,
            "align_content": null,
            "visibility": null,
            "align_self": null,
            "height": null,
            "min_height": null,
            "padding": null,
            "grid_auto_rows": null,
            "grid_gap": null,
            "max_width": null,
            "order": null,
            "_view_module_version": "1.2.0",
            "grid_template_areas": null,
            "object_position": null,
            "object_fit": null,
            "grid_auto_columns": null,
            "margin": null,
            "display": null,
            "left": null
          }
        },
        "398818c90e8c40a7bbe9784f3ef231f7": {
          "model_module": "@jupyter-widgets/controls",
          "model_name": "FloatProgressModel",
          "state": {
            "_view_name": "ProgressView",
            "style": "IPY_MODEL_35099a947f51430e8ac7d4655b5def43",
            "_dom_classes": [],
            "description": "Downloading: 100%",
            "_model_name": "FloatProgressModel",
            "bar_style": "success",
            "max": 387,
            "_view_module": "@jupyter-widgets/controls",
            "_model_module_version": "1.5.0",
            "value": 387,
            "_view_count": null,
            "_view_module_version": "1.5.0",
            "orientation": "horizontal",
            "min": 0,
            "description_tooltip": null,
            "_model_module": "@jupyter-widgets/controls",
            "layout": "IPY_MODEL_9761de0c6c414b5fa1d07a7fd98e19d9"
          }
        },
        "d424490f5b6f444eb8385cc021c85721": {
          "model_module": "@jupyter-widgets/controls",
          "model_name": "HTMLModel",
          "state": {
            "_view_name": "HTMLView",
            "style": "IPY_MODEL_520442be8daf4682a64cfc9cf5e8ec35",
            "_dom_classes": [],
            "description": "",
            "_model_name": "HTMLModel",
            "placeholder": "​",
            "_view_module": "@jupyter-widgets/controls",
            "_model_module_version": "1.5.0",
            "value": " 387/387 [00:00&lt;00:00, 1.53kB/s]",
            "_view_count": null,
            "_view_module_version": "1.5.0",
            "description_tooltip": null,
            "_model_module": "@jupyter-widgets/controls",
            "layout": "IPY_MODEL_a74da923c65b4ee6a3262729e3497388"
          }
        },
        "35099a947f51430e8ac7d4655b5def43": {
          "model_module": "@jupyter-widgets/controls",
          "model_name": "ProgressStyleModel",
          "state": {
            "_view_name": "StyleView",
            "_model_name": "ProgressStyleModel",
            "description_width": "initial",
            "_view_module": "@jupyter-widgets/base",
            "_model_module_version": "1.5.0",
            "_view_count": null,
            "_view_module_version": "1.2.0",
            "bar_color": null,
            "_model_module": "@jupyter-widgets/controls"
          }
        },
        "9761de0c6c414b5fa1d07a7fd98e19d9": {
          "model_module": "@jupyter-widgets/base",
          "model_name": "LayoutModel",
          "state": {
            "_view_name": "LayoutView",
            "grid_template_rows": null,
            "right": null,
            "justify_content": null,
            "_view_module": "@jupyter-widgets/base",
            "overflow": null,
            "_model_module_version": "1.2.0",
            "_view_count": null,
            "flex_flow": null,
            "width": null,
            "min_width": null,
            "border": null,
            "align_items": null,
            "bottom": null,
            "_model_module": "@jupyter-widgets/base",
            "top": null,
            "grid_column": null,
            "overflow_y": null,
            "overflow_x": null,
            "grid_auto_flow": null,
            "grid_area": null,
            "grid_template_columns": null,
            "flex": null,
            "_model_name": "LayoutModel",
            "justify_items": null,
            "grid_row": null,
            "max_height": null,
            "align_content": null,
            "visibility": null,
            "align_self": null,
            "height": null,
            "min_height": null,
            "padding": null,
            "grid_auto_rows": null,
            "grid_gap": null,
            "max_width": null,
            "order": null,
            "_view_module_version": "1.2.0",
            "grid_template_areas": null,
            "object_position": null,
            "object_fit": null,
            "grid_auto_columns": null,
            "margin": null,
            "display": null,
            "left": null
          }
        },
        "520442be8daf4682a64cfc9cf5e8ec35": {
          "model_module": "@jupyter-widgets/controls",
          "model_name": "DescriptionStyleModel",
          "state": {
            "_view_name": "StyleView",
            "_model_name": "DescriptionStyleModel",
            "description_width": "",
            "_view_module": "@jupyter-widgets/base",
            "_model_module_version": "1.5.0",
            "_view_count": null,
            "_view_module_version": "1.2.0",
            "_model_module": "@jupyter-widgets/controls"
          }
        },
        "a74da923c65b4ee6a3262729e3497388": {
          "model_module": "@jupyter-widgets/base",
          "model_name": "LayoutModel",
          "state": {
            "_view_name": "LayoutView",
            "grid_template_rows": null,
            "right": null,
            "justify_content": null,
            "_view_module": "@jupyter-widgets/base",
            "overflow": null,
            "_model_module_version": "1.2.0",
            "_view_count": null,
            "flex_flow": null,
            "width": null,
            "min_width": null,
            "border": null,
            "align_items": null,
            "bottom": null,
            "_model_module": "@jupyter-widgets/base",
            "top": null,
            "grid_column": null,
            "overflow_y": null,
            "overflow_x": null,
            "grid_auto_flow": null,
            "grid_area": null,
            "grid_template_columns": null,
            "flex": null,
            "_model_name": "LayoutModel",
            "justify_items": null,
            "grid_row": null,
            "max_height": null,
            "align_content": null,
            "visibility": null,
            "align_self": null,
            "height": null,
            "min_height": null,
            "padding": null,
            "grid_auto_rows": null,
            "grid_gap": null,
            "max_width": null,
            "order": null,
            "_view_module_version": "1.2.0",
            "grid_template_areas": null,
            "object_position": null,
            "object_fit": null,
            "grid_auto_columns": null,
            "margin": null,
            "display": null,
            "left": null
          }
        },
        "04551554aeef47a78e15c84c84a09e56": {
          "model_module": "@jupyter-widgets/controls",
          "model_name": "HBoxModel",
          "state": {
            "_view_name": "HBoxView",
            "_dom_classes": [],
            "_model_name": "HBoxModel",
            "_view_module": "@jupyter-widgets/controls",
            "_model_module_version": "1.5.0",
            "_view_count": null,
            "_view_module_version": "1.5.0",
            "box_style": "",
            "layout": "IPY_MODEL_628675592ccc4c809aa95ccd0019eaf1",
            "_model_module": "@jupyter-widgets/controls",
            "children": [
              "IPY_MODEL_4f6a82510be24a829c06cedcccfdb4fb",
              "IPY_MODEL_f153c0936d0e4e98a993e72731ea7bf5"
            ]
          }
        },
        "628675592ccc4c809aa95ccd0019eaf1": {
          "model_module": "@jupyter-widgets/base",
          "model_name": "LayoutModel",
          "state": {
            "_view_name": "LayoutView",
            "grid_template_rows": null,
            "right": null,
            "justify_content": null,
            "_view_module": "@jupyter-widgets/base",
            "overflow": null,
            "_model_module_version": "1.2.0",
            "_view_count": null,
            "flex_flow": null,
            "width": null,
            "min_width": null,
            "border": null,
            "align_items": null,
            "bottom": null,
            "_model_module": "@jupyter-widgets/base",
            "top": null,
            "grid_column": null,
            "overflow_y": null,
            "overflow_x": null,
            "grid_auto_flow": null,
            "grid_area": null,
            "grid_template_columns": null,
            "flex": null,
            "_model_name": "LayoutModel",
            "justify_items": null,
            "grid_row": null,
            "max_height": null,
            "align_content": null,
            "visibility": null,
            "align_self": null,
            "height": null,
            "min_height": null,
            "padding": null,
            "grid_auto_rows": null,
            "grid_gap": null,
            "max_width": null,
            "order": null,
            "_view_module_version": "1.2.0",
            "grid_template_areas": null,
            "object_position": null,
            "object_fit": null,
            "grid_auto_columns": null,
            "margin": null,
            "display": null,
            "left": null
          }
        },
        "4f6a82510be24a829c06cedcccfdb4fb": {
          "model_module": "@jupyter-widgets/controls",
          "model_name": "FloatProgressModel",
          "state": {
            "_view_name": "ProgressView",
            "style": "IPY_MODEL_5b2883d13453434e9bae9c18db3ada50",
            "_dom_classes": [],
            "description": "Downloading: 100%",
            "_model_name": "FloatProgressModel",
            "bar_style": "success",
            "max": 510408315,
            "_view_module": "@jupyter-widgets/controls",
            "_model_module_version": "1.5.0",
            "value": 510408315,
            "_view_count": null,
            "_view_module_version": "1.5.0",
            "orientation": "horizontal",
            "min": 0,
            "description_tooltip": null,
            "_model_module": "@jupyter-widgets/controls",
            "layout": "IPY_MODEL_3b3228359c174f2681728e55a6cb8d05"
          }
        },
        "f153c0936d0e4e98a993e72731ea7bf5": {
          "model_module": "@jupyter-widgets/controls",
          "model_name": "HTMLModel",
          "state": {
            "_view_name": "HTMLView",
            "style": "IPY_MODEL_56dc2f8b087e4ffa8d9bb09bbb62871e",
            "_dom_classes": [],
            "description": "",
            "_model_name": "HTMLModel",
            "placeholder": "​",
            "_view_module": "@jupyter-widgets/controls",
            "_model_module_version": "1.5.0",
            "value": " 510M/510M [00:12&lt;00:00, 41.1MB/s]",
            "_view_count": null,
            "_view_module_version": "1.5.0",
            "description_tooltip": null,
            "_model_module": "@jupyter-widgets/controls",
            "layout": "IPY_MODEL_f5e0b5589184439e8134203e334f40b0"
          }
        },
        "5b2883d13453434e9bae9c18db3ada50": {
          "model_module": "@jupyter-widgets/controls",
          "model_name": "ProgressStyleModel",
          "state": {
            "_view_name": "StyleView",
            "_model_name": "ProgressStyleModel",
            "description_width": "initial",
            "_view_module": "@jupyter-widgets/base",
            "_model_module_version": "1.5.0",
            "_view_count": null,
            "_view_module_version": "1.2.0",
            "bar_color": null,
            "_model_module": "@jupyter-widgets/controls"
          }
        },
        "3b3228359c174f2681728e55a6cb8d05": {
          "model_module": "@jupyter-widgets/base",
          "model_name": "LayoutModel",
          "state": {
            "_view_name": "LayoutView",
            "grid_template_rows": null,
            "right": null,
            "justify_content": null,
            "_view_module": "@jupyter-widgets/base",
            "overflow": null,
            "_model_module_version": "1.2.0",
            "_view_count": null,
            "flex_flow": null,
            "width": null,
            "min_width": null,
            "border": null,
            "align_items": null,
            "bottom": null,
            "_model_module": "@jupyter-widgets/base",
            "top": null,
            "grid_column": null,
            "overflow_y": null,
            "overflow_x": null,
            "grid_auto_flow": null,
            "grid_area": null,
            "grid_template_columns": null,
            "flex": null,
            "_model_name": "LayoutModel",
            "justify_items": null,
            "grid_row": null,
            "max_height": null,
            "align_content": null,
            "visibility": null,
            "align_self": null,
            "height": null,
            "min_height": null,
            "padding": null,
            "grid_auto_rows": null,
            "grid_gap": null,
            "max_width": null,
            "order": null,
            "_view_module_version": "1.2.0",
            "grid_template_areas": null,
            "object_position": null,
            "object_fit": null,
            "grid_auto_columns": null,
            "margin": null,
            "display": null,
            "left": null
          }
        },
        "56dc2f8b087e4ffa8d9bb09bbb62871e": {
          "model_module": "@jupyter-widgets/controls",
          "model_name": "DescriptionStyleModel",
          "state": {
            "_view_name": "StyleView",
            "_model_name": "DescriptionStyleModel",
            "description_width": "",
            "_view_module": "@jupyter-widgets/base",
            "_model_module_version": "1.5.0",
            "_view_count": null,
            "_view_module_version": "1.2.0",
            "_model_module": "@jupyter-widgets/controls"
          }
        },
        "f5e0b5589184439e8134203e334f40b0": {
          "model_module": "@jupyter-widgets/base",
          "model_name": "LayoutModel",
          "state": {
            "_view_name": "LayoutView",
            "grid_template_rows": null,
            "right": null,
            "justify_content": null,
            "_view_module": "@jupyter-widgets/base",
            "overflow": null,
            "_model_module_version": "1.2.0",
            "_view_count": null,
            "flex_flow": null,
            "width": null,
            "min_width": null,
            "border": null,
            "align_items": null,
            "bottom": null,
            "_model_module": "@jupyter-widgets/base",
            "top": null,
            "grid_column": null,
            "overflow_y": null,
            "overflow_x": null,
            "grid_auto_flow": null,
            "grid_area": null,
            "grid_template_columns": null,
            "flex": null,
            "_model_name": "LayoutModel",
            "justify_items": null,
            "grid_row": null,
            "max_height": null,
            "align_content": null,
            "visibility": null,
            "align_self": null,
            "height": null,
            "min_height": null,
            "padding": null,
            "grid_auto_rows": null,
            "grid_gap": null,
            "max_width": null,
            "order": null,
            "_view_module_version": "1.2.0",
            "grid_template_areas": null,
            "object_position": null,
            "object_fit": null,
            "grid_auto_columns": null,
            "margin": null,
            "display": null,
            "left": null
          }
        }
      }
    }
  },
  "cells": [
    {
      "cell_type": "markdown",
      "metadata": {
        "id": "view-in-github",
        "colab_type": "text"
      },
      "source": [
        "<a href=\"https://colab.research.google.com/github/Roberto-Cerna/CC4H1A-Proyecto/blob/main/Text_Generation.ipynb\" target=\"_parent\"><img src=\"https://colab.research.google.com/assets/colab-badge.svg\" alt=\"Open In Colab\"/></a>"
      ]
    },
    {
      "cell_type": "markdown",
      "metadata": {
        "id": "h_-j0BNfZXor"
      },
      "source": [
        "En el presente cuaderno se utilizará la arquitectura de los transformers introducida en el paper 'Atention is All you need', se enfocará en implementar múltiples métododes de decodificación (decoders) además de evaluar y comparar la calidad del texto que producen.\n",
        "\n",
        "Se utilizará un modelador de lenguaje en español\n",
        "https://huggingface.co/datificate/gpt2-small-spanish\n",
        " basado del conocido generador de texto GPT-2, en adición se utilizará una API de transformers realizada por Hugging Face. https://github.com/huggingface/transformers"
      ]
    },
    {
      "cell_type": "markdown",
      "metadata": {
        "id": "R-Y7sedmhYCI"
      },
      "source": [
        "#Inicio\n",
        "Instalamos la librería de transformers\n"
      ]
    },
    {
      "cell_type": "code",
      "metadata": {
        "colab": {
          "base_uri": "https://localhost:8080/"
        },
        "id": "7RtjqGiU5yEN",
        "outputId": "1a087e52-7c2e-4669-a53d-06c9251760f3"
      },
      "source": [
        "!pip install -q git+https://github.com/huggingface/transformers.git"
      ],
      "execution_count": null,
      "outputs": [
        {
          "output_type": "stream",
          "text": [
            "  Installing build dependencies ... \u001b[?25l\u001b[?25hdone\n",
            "  Getting requirements to build wheel ... \u001b[?25l\u001b[?25hdone\n",
            "    Preparing wheel metadata ... \u001b[?25l\u001b[?25hdone\n",
            "\u001b[K     |████████████████████████████████| 645kB 6.6MB/s \n",
            "\u001b[K     |████████████████████████████████| 901kB 34.0MB/s \n",
            "\u001b[K     |████████████████████████████████| 3.3MB 29.9MB/s \n",
            "\u001b[?25h  Building wheel for transformers (PEP 517) ... \u001b[?25l\u001b[?25hdone\n"
          ],
          "name": "stdout"
        }
      ]
    },
    {
      "cell_type": "markdown",
      "metadata": {
        "id": "7O-48NNchf_V"
      },
      "source": [
        "Realizamos los imports correspondientes para utilizar el tokenizer y el modelo de gpt2-small-spanish"
      ]
    },
    {
      "cell_type": "code",
      "metadata": {
        "colab": {
          "base_uri": "https://localhost:8080/",
          "height": 380,
          "referenced_widgets": [
            "b51cc0ce5fd14fe7911ba3abfa80be48",
            "c061aab61ab24f56a83607b0ea64932f",
            "048e859f7e36486b81d051d9679a7c2b",
            "b957d336c3f245ba8e6a634e1f6a2e90",
            "af3997db68204607b5d0616c4cbc3be9",
            "8e6f444b2cac403ba14b1e5d695f8828",
            "98562842086c4ef39111dce479a1ae36",
            "9868b171d3694859a8eaf4fb10d194d3",
            "43afffda471b412d99a8982237a08a7c",
            "c2b727e5a3bc4343a87e41504bb8e516",
            "207cae9dd5cd45fe9ec22a6306476630",
            "0bbcb2df1ff34e8283b455ae5e40b838",
            "06d66566f6e5471ab686acea79cff5e0",
            "9d341e9fe0d94ee3a332ac7929fe61b8",
            "9ac0d64e03d245b4be8aa671a59b7efb",
            "514746e3051b44b3b9c2039c74f04d6f",
            "9e2bb36ad74d4b2799bfd71e0766d727",
            "bfd9e39588fe4b2f83fb905443862249",
            "1896799530a74f9c8fef4e67a90c9ee7",
            "154a3df684eb462085b3f5b94ae4b88a",
            "1b3a01d1fe434d298600dcd376a8bef8",
            "d76a61cd73214a238d6d84c8b2c47ae9",
            "eadead040e2f4c5dbe58c8c61688644f",
            "66eabaf466f448c292a6bbefd20452d7",
            "5748cc3672c84830b9c3c9c34254a415",
            "87e9c8b68bc34b6c96057a5ee071cd41",
            "a4940cd2f6bc41bca823d0c81dbadafa",
            "101da6bd98ff401fa4d6fc3b945e031f",
            "b5a2e3e0c659489aa8835bd5d2987750",
            "5b3f7b047e364050941a61e30a34c635",
            "80d6529e0bca408e84d6369556445237",
            "2448a3364d42442999fcf59172d9267b",
            "357a4ace89a6484884e8bde33e6556bc",
            "bbe8a549d85f47b1bba27a1116374913",
            "398818c90e8c40a7bbe9784f3ef231f7",
            "d424490f5b6f444eb8385cc021c85721",
            "35099a947f51430e8ac7d4655b5def43",
            "9761de0c6c414b5fa1d07a7fd98e19d9",
            "520442be8daf4682a64cfc9cf5e8ec35",
            "a74da923c65b4ee6a3262729e3497388",
            "04551554aeef47a78e15c84c84a09e56",
            "628675592ccc4c809aa95ccd0019eaf1",
            "4f6a82510be24a829c06cedcccfdb4fb",
            "f153c0936d0e4e98a993e72731ea7bf5",
            "5b2883d13453434e9bae9c18db3ada50",
            "3b3228359c174f2681728e55a6cb8d05",
            "56dc2f8b087e4ffa8d9bb09bbb62871e",
            "f5e0b5589184439e8134203e334f40b0"
          ]
        },
        "id": "GlViXaSAATEV",
        "outputId": "82e06d4b-11b2-4492-abad-92525a427aa0"
      },
      "source": [
        "\n",
        "import torch\n",
        "\n",
        "from transformers import AutoTokenizer, AutoModelWithLMHead\n",
        "  \n",
        "tokenizer = AutoTokenizer.from_pretrained(\"datificate/gpt2-small-spanish\")\n",
        "model = AutoModelWithLMHead.from_pretrained(\"datificate/gpt2-small-spanish\")\n",
        "torch.manual_seed(1)"
      ],
      "execution_count": null,
      "outputs": [
        {
          "output_type": "display_data",
          "data": {
            "application/vnd.jupyter.widget-view+json": {
              "model_id": "b51cc0ce5fd14fe7911ba3abfa80be48",
              "version_minor": 0,
              "version_major": 2
            },
            "text/plain": [
              "HBox(children=(FloatProgress(value=0.0, description='Downloading', max=620.0, style=ProgressStyle(description_…"
            ]
          },
          "metadata": {
            "tags": []
          }
        },
        {
          "output_type": "stream",
          "text": [
            "\n"
          ],
          "name": "stdout"
        },
        {
          "output_type": "display_data",
          "data": {
            "application/vnd.jupyter.widget-view+json": {
              "model_id": "43afffda471b412d99a8982237a08a7c",
              "version_minor": 0,
              "version_major": 2
            },
            "text/plain": [
              "HBox(children=(FloatProgress(value=0.0, description='Downloading', max=817.0, style=ProgressStyle(description_…"
            ]
          },
          "metadata": {
            "tags": []
          }
        },
        {
          "output_type": "stream",
          "text": [
            "\n"
          ],
          "name": "stdout"
        },
        {
          "output_type": "display_data",
          "data": {
            "application/vnd.jupyter.widget-view+json": {
              "model_id": "9e2bb36ad74d4b2799bfd71e0766d727",
              "version_minor": 0,
              "version_major": 2
            },
            "text/plain": [
              "HBox(children=(FloatProgress(value=0.0, description='Downloading', max=849679.0, style=ProgressStyle(descripti…"
            ]
          },
          "metadata": {
            "tags": []
          }
        },
        {
          "output_type": "stream",
          "text": [
            "\n"
          ],
          "name": "stdout"
        },
        {
          "output_type": "display_data",
          "data": {
            "application/vnd.jupyter.widget-view+json": {
              "model_id": "5748cc3672c84830b9c3c9c34254a415",
              "version_minor": 0,
              "version_major": 2
            },
            "text/plain": [
              "HBox(children=(FloatProgress(value=0.0, description='Downloading', max=507987.0, style=ProgressStyle(descripti…"
            ]
          },
          "metadata": {
            "tags": []
          }
        },
        {
          "output_type": "stream",
          "text": [
            "\n"
          ],
          "name": "stdout"
        },
        {
          "output_type": "display_data",
          "data": {
            "application/vnd.jupyter.widget-view+json": {
              "model_id": "357a4ace89a6484884e8bde33e6556bc",
              "version_minor": 0,
              "version_major": 2
            },
            "text/plain": [
              "HBox(children=(FloatProgress(value=0.0, description='Downloading', max=387.0, style=ProgressStyle(description_…"
            ]
          },
          "metadata": {
            "tags": []
          }
        },
        {
          "output_type": "stream",
          "text": [
            "\n"
          ],
          "name": "stdout"
        },
        {
          "output_type": "stream",
          "text": [
            "/usr/local/lib/python3.7/dist-packages/transformers/models/auto/modeling_auto.py:902: FutureWarning: The class `AutoModelWithLMHead` is deprecated and will be removed in a future version. Please use `AutoModelForCausalLM` for causal language models, `AutoModelForMaskedLM` for masked language models and `AutoModelForSeq2SeqLM` for encoder-decoder models.\n",
            "  FutureWarning,\n"
          ],
          "name": "stderr"
        },
        {
          "output_type": "display_data",
          "data": {
            "application/vnd.jupyter.widget-view+json": {
              "model_id": "04551554aeef47a78e15c84c84a09e56",
              "version_minor": 0,
              "version_major": 2
            },
            "text/plain": [
              "HBox(children=(FloatProgress(value=0.0, description='Downloading', max=510408315.0, style=ProgressStyle(descri…"
            ]
          },
          "metadata": {
            "tags": []
          }
        },
        {
          "output_type": "stream",
          "text": [
            "\n"
          ],
          "name": "stdout"
        },
        {
          "output_type": "execute_result",
          "data": {
            "text/plain": [
              "<torch._C.Generator at 0x7fed52a11a70>"
            ]
          },
          "metadata": {
            "tags": []
          },
          "execution_count": 5
        }
      ]
    },
    {
      "cell_type": "markdown",
      "metadata": {
        "id": "1lYMsNC-raSv"
      },
      "source": [
        "#Decoders"
      ]
    },
    {
      "cell_type": "markdown",
      "metadata": {
        "id": "vVICdpIlrevc"
      },
      "source": [
        "## Búsqueda Greedy"
      ]
    },
    {
      "cell_type": "code",
      "metadata": {
        "colab": {
          "base_uri": "https://localhost:8080/"
        },
        "id": "9v4ySAaFA2Cn",
        "outputId": "54e428d7-5251-4d38-fc40-e7270b516343"
      },
      "source": [
        "#Especificamos el mensaje base, y el tipo de retorno del tokenizer como pt(pytorch)\n",
        "\n",
        "message = \"El ave volo sobre el monte hacia el horizonte\"\n",
        "input = tokenizer(message , return_tensors='pt')\n",
        "print(input)"
      ],
      "execution_count": null,
      "outputs": [
        {
          "output_type": "stream",
          "text": [
            "{'input_ids': tensor([[  491, 11512,  1017,    79,   623,   284,  8225,  1155,   284, 22336]]), 'attention_mask': tensor([[1, 1, 1, 1, 1, 1, 1, 1, 1, 1]])}\n"
          ],
          "name": "stdout"
        }
      ]
    },
    {
      "cell_type": "markdown",
      "metadata": {
        "id": "sXc9KCe_r3nq"
      },
      "source": [
        "En el paso anterior se pasa el tokenizer al mensaje, esto nos devuelve un dictionary, con un id que corresponde a una palabra, y una máscara de atención(en este caso esta llena de 1 debido a que todos los valores deben ser tomados)"
      ]
    },
    {
      "cell_type": "markdown",
      "metadata": {
        "id": "gsXINdr9713D"
      },
      "source": [
        "Lo siguiente es pasar al model el mesange tokenizado para que genere nuevo texto, en el caso del enfoque greedy en cada paso se escoge la siguiente palabra con más probabilidad de ser escogida.\n",
        "\n",
        "En la imagen cuando la última palabra es THE entonces tenemos 3 opciones:\n",
        "\n",
        "\n",
        "1.  Dog: con 0.4%\n",
        "2.  Nice: con 0.5%\n",
        "3.  Car: con 0.1%\n",
        "\n",
        "En este caso se escogerá la palabra Nice debido a que tiene mayor probabilidad, al siguiente paso sucede algo similar, entonces se escoge la palabra woman debido a que tiene mayor probabilidad que las otras.\n",
        "\n",
        "Entonces la frase resultante es: The nice woman\n",
        "\n",
        "\n"
      ]
    },
    {
      "cell_type": "markdown",
      "metadata": {
        "id": "UlejT-V9nPer"
      },
      "source": [
        "![greedy_search.png](data:image/png;base64,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)"
      ]
    },
    {
      "cell_type": "markdown",
      "metadata": {
        "id": "QD2LzfFwIZ7O"
      },
      "source": [
        "Generamos el texto y especificamos la longitud del tensor resultante"
      ]
    },
    {
      "cell_type": "code",
      "metadata": {
        "colab": {
          "base_uri": "https://localhost:8080/"
        },
        "id": "5cX95TZlJ39O",
        "outputId": "9b6a3ef0-194b-4e44-c172-9c1f01e7a432"
      },
      "source": [
        "text = model.generate(**input, max_length=150)\n",
        "print(text)\n",
        "print(type(text))\n",
        "print(text.shape)"
      ],
      "execution_count": null,
      "outputs": [
        {
          "output_type": "stream",
          "text": [
            "tensor([[  491, 11512,  1017,    79,   623,   284,  8225,  1155,   284, 22336,\n",
            "            14,   199,   199,   491,  5099,   258,   276, 30750,   293,   298,\n",
            "          2336,   258,   276,  3296,    12,   301,   306, 17359,   278,   284,\n",
            "          3608,    12,   287,   301,   306, 17359,   278,   284,  3608,    14,\n",
            "           486, 30750,   306, 17359,   278,   284,  3608,    12,   287,   306,\n",
            "         17359,   278,   284,  3608,    14,   486, 30750,   306, 17359,   278,\n",
            "           284,  3608,    12,   287,   306, 17359,   278,   284,  3608,    14,\n",
            "           486, 30750,   306, 17359,   278,   284,  3608,    12,   287,   306,\n",
            "         17359,   278,   284,  3608,    14,   486, 30750,   306, 17359,   278,\n",
            "           284,  3608,    12,   287,   306, 17359,   278,   284,  3608,    14,\n",
            "           486, 30750,   306, 17359,   278,   284,  3608,    12,   287,   306,\n",
            "         17359,   278,   284,  3608,    14,   486, 30750,   306, 17359,   278,\n",
            "           284,  3608,    12,   287,   306, 17359,   278,   284,  3608,    14,\n",
            "           486, 30750,   306, 17359,   278,   284,  3608,    12,   287,   306,\n",
            "         17359,   278,   284,  3608,    14,   486, 30750,   306, 17359,   278]])\n",
            "<class 'torch.Tensor'>\n",
            "torch.Size([1, 150])\n"
          ],
          "name": "stdout"
        }
      ]
    },
    {
      "cell_type": "markdown",
      "metadata": {
        "id": "wS24z4b_Im5P"
      },
      "source": [
        "El método tokenizer.decode transforma un tensor de ids al vocabulario (texto entendible para las personas), como parámetros opcional especificamos obviar caracteres especiales como classifiers o separators."
      ]
    },
    {
      "cell_type": "code",
      "metadata": {
        "colab": {
          "base_uri": "https://localhost:8080/"
        },
        "id": "tg7KEJi1OphS",
        "outputId": "a8fcf991-baf4-4bb4-9d03-5eefdd998aa3"
      },
      "source": [
        "print(tokenizer.decode(text[0], skip_special_tokens=True))"
      ],
      "execution_count": null,
      "outputs": [
        {
          "output_type": "stream",
          "text": [
            "El ave volo sobre el monte hacia el horizonte.\n",
            "\n",
            "El vuelo de la paloma es un movimiento de la cabeza, que se mueve en el aire, y que se mueve en el aire. La paloma se mueve en el aire, y se mueve en el aire. La paloma se mueve en el aire, y se mueve en el aire. La paloma se mueve en el aire, y se mueve en el aire. La paloma se mueve en el aire, y se mueve en el aire. La paloma se mueve en el aire, y se mueve en el aire. La paloma se mueve en el aire, y se mueve en el aire. La paloma se mueve en el aire, y se mueve en el aire. La paloma se mueve en\n"
          ],
          "name": "stdout"
        }
      ]
    },
    {
      "cell_type": "markdown",
      "metadata": {
        "id": "iqOVBO2rJgOW"
      },
      "source": [
        "Conclusión:"
      ]
    },
    {
      "cell_type": "markdown",
      "metadata": {
        "id": "oTuHef7_JiX2"
      },
      "source": [
        "#Beam search\n"
      ]
    },
    {
      "cell_type": "markdown",
      "metadata": {
        "id": "WYFpIR0YNWek"
      },
      "source": [
        "En este método se escogerá mútiples secuencias, siempre tratando de buscar las secuencias con mayor probabilidad y manteniendo el mismo número de secuencias."
      ]
    },
    {
      "cell_type": "code",
      "metadata": {
        "colab": {
          "base_uri": "https://localhost:8080/",
          "height": 426
        },
        "id": "MT842nA0NZJ3",
        "outputId": "dfb5fe2b-e5ad-4b33-8e32-a21776c815b8"
      },
      "source": [
        "from IPython.display import Image\n",
        "Image('Beam_search.png')"
      ],
      "execution_count": null,
      "outputs": [
        {
          "output_type": "execute_result",
          "data": {
            "image/png": "[encoded data removed]",
            "text/plain": [
              "<IPython.core.display.Image object>"
            ]
          },
          "metadata": {
            "tags": []
          },
          "execution_count": 25
        }
      ]
    },
    {
      "cell_type": "markdown",
      "metadata": {
        "id": "zRV4l6QNR3RX"
      },
      "source": [
        "En este ejemplo empezamos con las 2 probabilidades más altas(A y C).\n",
        "\n",
        "Luego en el siguiente paso tenemos 10 nuevas alternativas (5 de seguir A y 5 de seguir C), en este caso las que maximixan son las secuencias de A (AB, AE) asi que seguimos esas secuencias.\n",
        "\n",
        "Finalmente se repite el mismo procedimiento dando como resultado dos secuencias ( ABC, AED).\n"
      ]
    },
    {
      "cell_type": "code",
      "metadata": {
        "id": "ngRMQIQyVJ4V"
      },
      "source": [
        "#Especificamos algunos parámetros antes de realizar la búsqueda beam\n",
        "n_beams = 5 #Número de secuencias que se van a seguir\n",
        "ngram_no_repeat = 3  #La longitud de los n-gramas que no se pueden repetir\n"
      ],
      "execution_count": null,
      "outputs": []
    },
    {
      "cell_type": "markdown",
      "metadata": {
        "id": "Vk7U88FVV9xa"
      },
      "source": [
        "Generamos n_beams salidas utilizando la busqueda beam."
      ]
    },
    {
      "cell_type": "code",
      "metadata": {
        "colab": {
          "base_uri": "https://localhost:8080/"
        },
        "id": "uG3CglDfRv68",
        "outputId": "c08e41d4-0344-498f-eac4-88080054d018"
      },
      "source": [
        "beam = model.generate(\n",
        "    **input,\n",
        "    max_length=150,\n",
        "    num_beams= n_beams,\n",
        "    early_stopping=True,\n",
        "    no_repeat_ngram_size= ngram_no_repeat,\n",
        "    num_return_sequences= n_beams,\n",
        ")\n"
      ],
      "execution_count": null,
      "outputs": [
        {
          "output_type": "stream",
          "text": [
            "Setting `pad_token_id` to `eos_token_id`:50256 for open-end generation.\n",
            "/usr/local/lib/python3.7/dist-packages/torch/_tensor.py:575: UserWarning: floor_divide is deprecated, and will be removed in a future version of pytorch. It currently rounds toward 0 (like the 'trunc' function NOT 'floor'). This results in incorrect rounding for negative values.\n",
            "To keep the current behavior, use torch.div(a, b, rounding_mode='trunc'), or for actual floor division, use torch.div(a, b, rounding_mode='floor'). (Triggered internally at  /pytorch/aten/src/ATen/native/BinaryOps.cpp:467.)\n",
            "  return torch.floor_divide(self, other)\n"
          ],
          "name": "stderr"
        }
      ]
    },
    {
      "cell_type": "code",
      "metadata": {
        "id": "fHwCGAD7VetD",
        "colab": {
          "base_uri": "https://localhost:8080/"
        },
        "outputId": "acc70c62-49ff-407b-b0b2-3ae7d2d6e188"
      },
      "source": [
        "#imprimimos los resultados obtenidos\n",
        "for i, output in enumerate(beam):\n",
        "  print(f'{i}: {tokenizer.decode(output, skip_special_tokens=True)}')\n",
        "  print(\"\", end='\\n\\n')"
      ],
      "execution_count": null,
      "outputs": [
        {
          "output_type": "stream",
          "text": [
            "0: El ave volo sobre el monte hacia el horizonte.\n",
            "\n",
            "En la mitología griega, el ave volaba sobre el Monte Olimpo, en el monte Olimpo. En la mitología romana, el águila volaba en el cielo, y en la mitología egipcia, el halcón volaba alrededor del Monte Olimpo. \n",
            "\n",
            "En el folclore griego, el pájaro volaba a lo largo de la costa del mar Mediterráneo. En el folclore egipcio, el vuelo de un pájaro volador sobre el mar Mediterráneo era una forma de volar sobre la tierra. En los mitos griegos, el avión volador era un ave voladora que volaba hacia el cielo. En las religiones animistas, el volador volador es un animal volador que vuela sobre la Tierra.\n",
            "\n",
            "\n",
            "\n",
            "1: El ave volo sobre el monte hacia el horizonte.\n",
            "\n",
            "En la mitología griega, el ave volaba sobre el Monte Olimpo, en el monte Olimpo. En la mitología romana, el águila volaba en el cielo, y en la mitología egipcia, el halcón volaba alrededor del Monte Olimpo. \n",
            "\n",
            "En el folclore griego, el pájaro volaba a lo largo de la costa del mar Mediterráneo. En el folclore egipcio, el vuelo de un pájaro volador sobre el mar Mediterráneo era una forma de volar sobre la tierra. En los mitos griegos, el avión volador era un ave voladora que volaba hacia el cielo. En las religiones animistas, el volador volador es un animal volador que vuela sobre la Tierra. En\n",
            "\n",
            "\n",
            "2: El ave volo sobre el monte hacia el horizonte.\n",
            "\n",
            "En la mitología griega, el ave volaba sobre el Monte Olimpo, en el monte Olimpo. En la mitología romana, el águila volaba en el cielo, y en la mitología egipcia, el halcón volaba alrededor del Monte Olimpo. \n",
            "\n",
            "En el folclore griego, el pájaro volaba a lo largo de la costa del mar Mediterráneo. En el folclore egipcio, el vuelo de un pájaro volador sobre el mar Mediterráneo era una forma de volar sobre la tierra. En los mitos griegos, el avión volador era un ave voladora que volaba hacia el cielo. En las religiones animistas, el volador volador es un animal volador que vuela sobre la Tierra. \n",
            "\n",
            "\n",
            "\n",
            "3: El ave volo sobre el monte hacia el horizonte.\n",
            "\n",
            "En la mitología griega, el ave volaba sobre el Monte Olimpo, en el monte Olimpo. En la mitología romana, el águila volaba en el cielo, y en la mitología egipcia, el halcón volaba alrededor del Monte Olimpo. \n",
            "\n",
            "En el folclore griego, el pájaro volaba a lo largo de la costa del mar Mediterráneo. En el folclore egipcio, el vuelo de un pájaro volador sobre el mar Mediterráneo era una forma de volar sobre la tierra. En los mitos griegos, el avión volador era un ave voladora que volaba hacia el cielo. En las religiones animistas, el volador volador es un animal volador que vuela en el aire. En\n",
            "\n",
            "\n",
            "4: El ave volo sobre el monte hacia el horizonte.\n",
            "\n",
            "En la mitología griega, el ave volaba sobre el Monte Olimpo, en el monte Olimpo. En la mitología romana, el águila volaba en el cielo, y en la mitología egipcia, el halcón volaba alrededor del Monte Olimpo. \n",
            "\n",
            "En el folclore griego, el pájaro volaba a lo largo de la costa del mar Mediterráneo. En el folclore egipcio, el vuelo de un pájaro volador sobre el mar Mediterráneo era una forma de volar sobre la tierra. En los mitos griegos, el avión volador era un ave voladora que volaba hacia el cielo. En las religiones animistas, el volador volador es un animal volador que vuela en el aire.\n",
            "\n",
            "\n",
            "\n"
          ],
          "name": "stdout"
        }
      ]
    }
  ]
}